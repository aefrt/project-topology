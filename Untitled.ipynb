{
 "cells": [
  {
   "cell_type": "code",
   "execution_count": 1,
   "id": "826e7488-8f74-4f38-975b-0269bccd84ca",
   "metadata": {},
   "outputs": [],
   "source": [
    "import itertools\n",
    "import gudhi as gd\n",
    "import matplotlib.pyplot as plt"
   ]
  },
  {
   "cell_type": "markdown",
   "id": "37946bcc-b630-45d9-b509-b01b0f626767",
   "metadata": {},
   "source": [
    "Рассмотрим тоннец септаккордов. По определению,"
   ]
  },
  {
   "cell_type": "code",
   "execution_count": 2,
   "id": "938edd48-7338-425c-989e-9a593ff7dfe4",
   "metadata": {},
   "outputs": [],
   "source": [
    "n = 2 + 3 + 3 + 4\n",
    "k = 4\n",
    "l = [2, 3, 3, 4]"
   ]
  },
  {
   "cell_type": "markdown",
   "id": "87f762eb-6eda-4c42-b0e3-cfd48ba9df42",
   "metadata": {},
   "source": [
    "Будем перебирать все $x \\in \\mathbb{Z}_n, \\sigma \\in S_{4}$ и считать $\\Delta(x, \\sigma)$. Будем считать, что время возникновения $i$-го по счету симлекса равно $i$. Для подсчета $i$ используем перемнную $counter$. Будем считать, что 3-подсимлекс $i$-го симплекса возник во время $2 \\cdot i$, 2-подсимлекс $i$-го симплекса возник во время $1.75 \\cdot i$, 1-подсимлекс $i$-го симплекса возник во время $1.5 \\cdot i$, 0-подсимплекс — во время $1.25 \\cdot i$."
   ]
  },
  {
   "cell_type": "code",
   "execution_count": 60,
   "id": "a3b52956-07ce-4d29-8870-d4654ecd9947",
   "metadata": {
    "tags": []
   },
   "outputs": [],
   "source": [
    "simplex_list = []\n",
    "\n",
    "for x in range(0, n):\n",
    "    for sigma in list(itertools.permutations([0, 1, 2, 3])):\n",
    "        simplex_list.append([x % n, (x + l[sigma[0]]) % n, (x + l[sigma[0]] + l[sigma[1]]) % n, \n",
    "                             (x + l[sigma[0]] + l[sigma[1]] + l[sigma[2]]) % n])"
   ]
  },
  {
   "cell_type": "markdown",
   "id": "42c5218a-e9cd-4d36-9fef-83d2f32e6c81",
   "metadata": {},
   "source": [
    "Теперь создам комплекс на основе $simplex\\_list$."
   ]
  },
  {
   "cell_type": "code",
   "execution_count": 63,
   "id": "d5a091f1-41ff-4455-b74a-21b1d89e0423",
   "metadata": {
    "tags": []
   },
   "outputs": [],
   "source": [
    "st = gd.SimplexTree()\n",
    "for x in simplex_list:\n",
    "    for subset in itertools.combinations(x, 1):\n",
    "        st.insert(subset)\n",
    "    for subset in itertools.combinations(x, 2):\n",
    "        st.insert(subset)\n",
    "    for subset in itertools.combinations(x, 3):\n",
    "        st.insert(subset)\n",
    "    for subset in itertools.combinations(x, 4):\n",
    "        st.insert(subset)"
   ]
  },
  {
   "cell_type": "markdown",
   "id": "ae47bb91-59ae-46a0-a754-3c7db4d23cea",
   "metadata": {},
   "source": [
    "Теперь вычислим гомологии (числа Бетти) с помощью метода `compute_persistence()` библиотеки gudhi."
   ]
  },
  {
   "cell_type": "code",
   "execution_count": 65,
   "id": "6256361b-765e-47ad-a79e-3e6a48b1d535",
   "metadata": {},
   "outputs": [
    {
     "data": {
      "text/plain": [
       "[1, 1, 6]"
      ]
     },
     "execution_count": 65,
     "metadata": {},
     "output_type": "execute_result"
    }
   ],
   "source": [
    "st.compute_persistence()\n",
    "st.betti_numbers()"
   ]
  }
 ],
 "metadata": {
  "kernelspec": {
   "display_name": "Python 3",
   "language": "python",
   "name": "python3"
  },
  "language_info": {
   "codemirror_mode": {
    "name": "ipython",
    "version": 3
   },
   "file_extension": ".py",
   "mimetype": "text/x-python",
   "name": "python",
   "nbconvert_exporter": "python",
   "pygments_lexer": "ipython3",
   "version": "3.9.5"
  }
 },
 "nbformat": 4,
 "nbformat_minor": 5
}
